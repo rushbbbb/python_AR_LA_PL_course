{
 "cells": [
  {
   "cell_type": "markdown",
   "metadata": {},
   "source": [
    "# 西安酒店评分统计"
   ]
  },
  {
   "cell_type": "code",
   "execution_count": 2,
   "metadata": {},
   "outputs": [
    {
     "data": {
      "text/html": [
       "<div>\n",
       "<style scoped>\n",
       "    .dataframe tbody tr th:only-of-type {\n",
       "        vertical-align: middle;\n",
       "    }\n",
       "\n",
       "    .dataframe tbody tr th {\n",
       "        vertical-align: top;\n",
       "    }\n",
       "\n",
       "    .dataframe thead th {\n",
       "        text-align: right;\n",
       "    }\n",
       "</style>\n",
       "<table border=\"1\" class=\"dataframe\">\n",
       "  <thead>\n",
       "    <tr style=\"text-align: right;\">\n",
       "      <th></th>\n",
       "      <th>level_0</th>\n",
       "      <th>level_1</th>\n",
       "      <th>name</th>\n",
       "      <th>location_lat</th>\n",
       "      <th>location_lng</th>\n",
       "      <th>detail_info_tag</th>\n",
       "      <th>detail_info_overall_rating</th>\n",
       "      <th>detail_info_price</th>\n",
       "      <th>geometry</th>\n",
       "    </tr>\n",
       "  </thead>\n",
       "  <tbody>\n",
       "    <tr>\n",
       "      <th>11579</th>\n",
       "      <td>poi_1_hotel</td>\n",
       "      <td>1191</td>\n",
       "      <td>志诚丽柏酒店</td>\n",
       "      <td>34.240030</td>\n",
       "      <td>108.912124</td>\n",
       "      <td>酒店;星级酒店</td>\n",
       "      <td>4.6</td>\n",
       "      <td>376</td>\n",
       "      <td>POINT (108.91212 34.24003)</td>\n",
       "    </tr>\n",
       "    <tr>\n",
       "      <th>11580</th>\n",
       "      <td>poi_1_hotel</td>\n",
       "      <td>1194</td>\n",
       "      <td>水晶岛酒店</td>\n",
       "      <td>34.213837</td>\n",
       "      <td>108.893900</td>\n",
       "      <td>酒店;其他</td>\n",
       "      <td>4.4</td>\n",
       "      <td>299</td>\n",
       "      <td>POINT (108.89390 34.21384)</td>\n",
       "    </tr>\n",
       "    <tr>\n",
       "      <th>11581</th>\n",
       "      <td>poi_1_hotel</td>\n",
       "      <td>1195</td>\n",
       "      <td>西安高新希尔顿酒店</td>\n",
       "      <td>34.226686</td>\n",
       "      <td>108.894191</td>\n",
       "      <td>酒店;星级酒店</td>\n",
       "      <td>4.6</td>\n",
       "      <td>614</td>\n",
       "      <td>POINT (108.89419 34.22669)</td>\n",
       "    </tr>\n",
       "    <tr>\n",
       "      <th>11582</th>\n",
       "      <td>poi_1_hotel</td>\n",
       "      <td>1196</td>\n",
       "      <td>西安海升酒店</td>\n",
       "      <td>34.218452</td>\n",
       "      <td>108.891532</td>\n",
       "      <td>酒店;其他</td>\n",
       "      <td>4.6</td>\n",
       "      <td>264</td>\n",
       "      <td>POINT (108.89153 34.21845)</td>\n",
       "    </tr>\n",
       "    <tr>\n",
       "      <th>11583</th>\n",
       "      <td>poi_1_hotel</td>\n",
       "      <td>1197</td>\n",
       "      <td>西安天骊君廷大酒店</td>\n",
       "      <td>34.224739</td>\n",
       "      <td>108.919048</td>\n",
       "      <td>酒店;快捷酒店</td>\n",
       "      <td>4.8</td>\n",
       "      <td>655</td>\n",
       "      <td>POINT (108.91905 34.22474)</td>\n",
       "    </tr>\n",
       "  </tbody>\n",
       "</table>\n",
       "</div>"
      ],
      "text/plain": [
       "           level_0  level_1       name  location_lat  location_lng  \\\n",
       "11579  poi_1_hotel     1191     志诚丽柏酒店     34.240030    108.912124   \n",
       "11580  poi_1_hotel     1194      水晶岛酒店     34.213837    108.893900   \n",
       "11581  poi_1_hotel     1195  西安高新希尔顿酒店     34.226686    108.894191   \n",
       "11582  poi_1_hotel     1196     西安海升酒店     34.218452    108.891532   \n",
       "11583  poi_1_hotel     1197  西安天骊君廷大酒店     34.224739    108.919048   \n",
       "\n",
       "      detail_info_tag  detail_info_overall_rating detail_info_price  \\\n",
       "11579         酒店;星级酒店                         4.6               376   \n",
       "11580           酒店;其他                         4.4               299   \n",
       "11581         酒店;星级酒店                         4.6               614   \n",
       "11582           酒店;其他                         4.6               264   \n",
       "11583         酒店;快捷酒店                         4.8               655   \n",
       "\n",
       "                         geometry  \n",
       "11579  POINT (108.91212 34.24003)  \n",
       "11580  POINT (108.89390 34.21384)  \n",
       "11581  POINT (108.89419 34.22669)  \n",
       "11582  POINT (108.89153 34.21845)  \n",
       "11583  POINT (108.91905 34.22474)  "
      ]
     },
     "execution_count": 2,
     "metadata": {},
     "output_type": "execute_result"
    }
   ],
   "source": [
    "import pandas as pd\n",
    "import numpy as np\n",
    "import matplotlib.pyplot as plt\n",
    "from scipy import stats\n",
    "poi_gpd=pd.read_pickle('../data/poiAll_gpd.pkl') #读取已经存储为.pkl格式的POI数据，其中包括geometry字段，为GeoDataFrame地理信息数据，可以通过poi_gpd.plot()迅速查看数据。\n",
    "\n",
    "df = poi_gpd.reset_index()\n",
    "df = df[df.level_0 == 'poi_1_hotel']\n",
    "df = df.dropna(subset = ['detail_info_overall_rating'],axis =0) #删除缺省值\n",
    "df.head()"
   ]
  },
  {
   "cell_type": "code",
   "execution_count": 3,
   "metadata": {},
   "outputs": [
    {
     "data": {
      "text/plain": [
       "count    1419.000000\n",
       "mean        4.004017\n",
       "std         0.844633\n",
       "min         0.000000\n",
       "25%         3.800000\n",
       "50%         4.300000\n",
       "75%         4.500000\n",
       "max         5.000000\n",
       "Name: detail_info_overall_rating, dtype: float64"
      ]
     },
     "execution_count": 3,
     "metadata": {},
     "output_type": "execute_result"
    }
   ],
   "source": [
    "df.detail_info_overall_rating.describe()"
   ]
  },
  {
   "cell_type": "code",
   "execution_count": 4,
   "metadata": {},
   "outputs": [
    {
     "data": {
      "text/plain": [
       "{'whiskers': [<matplotlib.lines.Line2D at 0xbb384a8>,\n",
       "  <matplotlib.lines.Line2D at 0xbb38b38>],\n",
       " 'caps': [<matplotlib.lines.Line2D at 0xbb39208>,\n",
       "  <matplotlib.lines.Line2D at 0xbb39898>],\n",
       " 'boxes': [<matplotlib.lines.Line2D at 0xbb35c88>],\n",
       " 'medians': [<matplotlib.lines.Line2D at 0xbb39f28>],\n",
       " 'fliers': [<matplotlib.lines.Line2D at 0xbb3c5f8>],\n",
       " 'means': []}"
      ]
     },
     "execution_count": 4,
     "metadata": {},
     "output_type": "execute_result"
    },
    {
     "data": {
      "image/png": "[encoded data removed]",
      "text/plain": [
       "<Figure size 432x288 with 1 Axes>"
      ]
     },
     "metadata": {
      "needs_background": "light"
     },
     "output_type": "display_data"
    }
   ],
   "source": [
    "plt.boxplot(df.detail_info_overall_rating)"
   ]
  },
  {
   "cell_type": "code",
   "execution_count": 14,
   "metadata": {},
   "outputs": [
    {
     "name": "stdout",
     "output_type": "stream",
     "text": [
      "        index  fre    relFre  median  fre_percent%\n",
      "0  [0.0, 0.5)   10  0.007179     0.0      0.717875\n",
      "1  [0.5, 1.0)    0  0.000000     NaN      0.000000\n",
      "2  [1.0, 1.5)   11  0.007897     1.3      0.789663\n",
      "3  [1.5, 2.0)   41  0.029433     1.7      2.943288\n",
      "4  [2.0, 2.5)   52  0.037330     2.2      3.732950\n",
      "5  [2.5, 3.0)   31  0.022254     2.6      2.225413\n",
      "6  [3.0, 3.5)   80  0.057430     3.1      5.743001\n",
      "7  [3.5, 4.0)  206  0.147882     3.7     14.788227\n",
      "8  [4.0, 4.5)  527  0.378320     4.2     37.832017\n",
      "9  [4.5, 5.0)  435  0.312276     4.6     31.227566\n"
     ]
    }
   ],
   "source": [
    "def frequency_bins(df,bins):\n",
    "    import pandas as pd\n",
    "    '''function-频数分布计算'''\n",
    "    \n",
    "    #A-组织数据\n",
    "    column_name=df.columns[0]\n",
    "    column_bins_name=df.columns[0]+'_bins'\n",
    "    df[column_bins_name]=pd.cut(x=df[column_name],bins=bins,right=False) #参数right=False指定为包含左边值，不包括右边值。\n",
    "    df_bins=df.sort_values(by=[column_name]) #按照分割区间排序\n",
    "    df_bins.set_index([column_bins_name,df_bins.index],drop=False,inplace=True) #以price_bins和原索引值设置多重索引，同时配置drop=False参数保留原列。\n",
    "    #print(df_bins.head(10))\n",
    "    \n",
    "    #B-频数计算\n",
    "    dfBins_frequency=df_bins[column_bins_name].value_counts() #dropna=False  \n",
    "    dfBins_relativeFrequency=df_bins[column_bins_name].value_counts(normalize=True) #参数normalize=True将计算相对频数(次数) dividing all values by the sum of values\n",
    "    dfBins_freqANDrelFreq=pd.DataFrame({'fre':dfBins_frequency,'relFre':dfBins_relativeFrequency})\n",
    "    #print(dfBins_freqANDrelFreq)\n",
    "    \n",
    "    #C-组中值计算\n",
    "    df_bins[\"rating\"]=df_bins[\"rating\"].astype(float)\n",
    "    dfBins_median=df_bins.median(level=0)\n",
    "    dfBins_median.rename(columns={column_name:'median'},inplace=True)\n",
    "    #print(dfBins_median)\n",
    "    \n",
    "    #D-合并分割区间、频数计算和组中值的DataFrame格式数据。\n",
    "    df_fre=dfBins_freqANDrelFreq.join(dfBins_median).sort_index().reset_index() #在合并时会自动匹配index\n",
    "    #print(ranmen_fre)\n",
    "    \n",
    "    #E-计算频数比例\n",
    "    df_fre['fre_percent%']=df_fre.apply(lambda row:row['fre']/df_fre.fre.sum()*100,axis=1)\n",
    "    \n",
    "    return df_fre\n",
    "bins=np.arange(0,5.5,0.5) #配置分割区间（组距）   \n",
    "delicacy_price_df = pd.DataFrame()\n",
    "delicacy_price_df['rating'] = df.detail_info_overall_rating\n",
    "poiPrice_fre_50=frequency_bins(delicacy_price_df,bins)    \n",
    "print(poiPrice_fre_50)\n"
   ]
  },
  {
   "cell_type": "code",
   "execution_count": 15,
   "metadata": {},
   "outputs": [
    {
     "data": {
      "text/plain": [
       "<matplotlib.axes._subplots.AxesSubplot at 0xbbe5710>"
      ]
     },
     "execution_count": 15,
     "metadata": {},
     "output_type": "execute_result"
    },
    {
     "data": {
      "image/png": "[encoded data removed]",
      "text/plain": [
       "<Figure size 1080x360 with 1 Axes>"
      ]
     },
     "metadata": {
      "needs_background": "light"
     },
     "output_type": "display_data"
    }
   ],
   "source": [
    "poiPrice_fre_50.loc[:,['fre','index']].plot.bar(x='index',rot=0,figsize=(15,5))"
   ]
  },
  {
   "cell_type": "code",
   "execution_count": null,
   "metadata": {},
   "outputs": [],
   "source": []
  }
 ],
 "metadata": {
  "kernelspec": {
   "display_name": "Python 3",
   "language": "python",
   "name": "python3"
  },
  "language_info": {
   "codemirror_mode": {
    "name": "ipython",
    "version": 3
   },
   "file_extension": ".py",
   "mimetype": "text/x-python",
   "name": "python",
   "nbconvert_exporter": "python",
   "pygments_lexer": "ipython3",
   "version": "3.6.10"
  }
 },
 "nbformat": 4,
 "nbformat_minor": 4
}
